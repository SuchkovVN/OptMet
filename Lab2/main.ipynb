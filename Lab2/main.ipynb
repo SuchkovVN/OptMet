{
 "cells": [
  {
   "cell_type": "markdown",
   "metadata": {},
   "source": [
    "Постановка задачи задачи:\n",
    "\n",
    "\n",
    "$$\\min_{D} ((-(1.5(x_1 + 0.5)^2) + x_2 + 2)^2 + x_2^2) = ?$$\n",
    "\n",
    "\n",
    "$$D = \\{x\\in\\R^2| g_1(x) \\leqslant 0, g_2(x)\\leqslant 0, g_3(x) \\leqslant 0\\}$$\n",
    "$$g_1(x) = -0.2x_1^2 - x_2 + 0.5,\n",
    "g_2(x) = -x_1 - x_2 - 1,\n",
    "g_3(x) = x_1^2 - 3x_1 + 2.25 - (x_2^2 - 3x_2 + 2.25) + 2$$\n"
   ]
  },
  {
   "cell_type": "code",
   "execution_count": 1,
   "metadata": {},
   "outputs": [],
   "source": [
    "import sympy as sp\n",
    "from sympy import pprint, latex\n",
    "from IPython.display import display, Latex\n",
    "from itertools import chain, combinations\n",
    "\n",
    "def powerset(iterable):\n",
    "    s = list(iterable)\n",
    "    return chain.from_iterable(combinations(s, r) for r in range(len(s)+1))"
   ]
  },
  {
   "cell_type": "code",
   "execution_count": 2,
   "metadata": {},
   "outputs": [
    {
     "name": "stdout",
     "output_type": "stream",
     "text": [
      "Лагранжиан:\n"
     ]
    },
    {
     "data": {
      "text/plain": [
       "IPython.core.display.Latex"
      ]
     },
     "metadata": {},
     "output_type": "display_data"
    },
    {
     "data": {
      "text/latex": [
       "$\\displaystyle \\lambda_{1} \\left(- 0.2 x_{1}^{2} - x_{2} + 0.5\\right) + \\lambda_{2} \\left(- x_{1} - x_{2} - 1\\right) + \\lambda_{3} \\left(x_{1}^{2} - 3 x_{1} - x_{2}^{2} + 3 x_{2} + 2\\right) + x_{2}^{2} + 4 \\left(\\frac{x_{2}}{2} - 0.75 \\left(x_{1} + 0.5\\right)^{2} + 1\\right)^{2}$"
      ],
      "text/plain": [
       "\\lambda_1*(-0.2*x_1**2 - x_2 + 0.5) + \\lambda_2*(-x_1 - x_2 - 1) + \\lambda_3*(x_1**2 - 3*x_1 - x_2**2 + 3*x_2 + 2) + x_2**2 + 4*(x_2/2 - 0.75*(x_1 + 0.5)**2 + 1)**2"
      ]
     },
     "metadata": {},
     "output_type": "display_data"
    },
    {
     "name": "stdout",
     "output_type": "stream",
     "text": [
      "Градиент Лагранжиана:\n"
     ]
    },
    {
     "data": {
      "text/plain": [
       "IPython.core.display.Latex"
      ]
     },
     "metadata": {},
     "output_type": "display_data"
    },
    {
     "data": {
      "text/latex": [
       "$\\displaystyle \\left[\\begin{matrix}- 0.4 \\lambda_{1} x_{1} - \\lambda_{2} + \\lambda_{3} \\cdot \\left(2 x_{1} - 3\\right) + 4 \\left(- 3.0 x_{1} - 1.5\\right) \\left(\\frac{x_{2}}{2} - 0.75 \\left(x_{1} + 0.5\\right)^{2} + 1\\right)\\\\- \\lambda_{1} - \\lambda_{2} + \\lambda_{3} \\cdot \\left(3 - 2 x_{2}\\right) + 4 x_{2} - 3.0 \\left(x_{1} + 0.5\\right)^{2} + 4\\end{matrix}\\right]$"
      ],
      "text/plain": [
       "Matrix([\n",
       "[-0.4*\\lambda_1*x_1 - \\lambda_2 + \\lambda_3*(2*x_1 - 3) + 4*(-3.0*x_1 - 1.5)*(x_2/2 - 0.75*(x_1 + 0.5)**2 + 1)],\n",
       "[                              -\\lambda_1 - \\lambda_2 + \\lambda_3*(3 - 2*x_2) + 4*x_2 - 3.0*(x_1 + 0.5)**2 + 4]])"
      ]
     },
     "metadata": {},
     "output_type": "display_data"
    }
   ],
   "source": [
    "X = sp.symbols(['x_1', 'x_2'], real=True)\n",
    "lamds = sp.symbols([rf'\\lambda_{i}' for i in range(1, 4)], real=True)\n",
    "\n",
    "F = (-(1.5 * (X[0] + 0.5)**2) + X[1] + 2)**2 + X[1]**2\n",
    "D = [-0.2*X[0]**2 - X[1] + 1/2, -X[0] - X[1] - 1, X[0]**2 - 3 * X[0] + 2.25 - (X[1]**2 - 3 * X[1] + 2.25) + 2]\n",
    "\n",
    "L = F\n",
    "for i, d in enumerate(D):\n",
    "    L = L + d * lamds[i]\n",
    "\n",
    "print(\"Лагранжиан:\")\n",
    "display(Latex, L)\n",
    "dL = [sp.diff(L, X[0]), sp.diff(L, X[1])]\n",
    "print(\"Градиент Лагранжиана:\")\n",
    "display(Latex, sp.Matrix(dL))"
   ]
  },
  {
   "cell_type": "code",
   "execution_count": 3,
   "metadata": {},
   "outputs": [],
   "source": [
    "sols = []"
   ]
  },
  {
   "cell_type": "code",
   "execution_count": 4,
   "metadata": {},
   "outputs": [
    {
     "name": "stdout",
     "output_type": "stream",
     "text": [
      "[[(-1.65470053837925, 0.0, 0.0, 0.0, 0.0), (-0.500000000000000, -1.00000000000000, 0.0, 0.0, 0.0), (0.654700538379252, 0.0, 0.0, 0.0, 0.0)], [], [], [], [(-1.20809924354783, 0.208099243547831, -1.92668757447740, 5.25487093252969, 0.0), (6.20809924354783, -7.20809924354783, 2080.67668757448, -2240.50487093253, 0.0)], [(-5.57406614872846, -5.71404268608011, 1107.29202247182, 0.0, 83.4058438123157), (1.44123873066190, 0.0845661842480148, 66.7777659646278, 0.0, 26.0502200227294)], [(-0.250000000000000, -0.750000000000000, 0.0, -0.620117187500000, -0.318359375000000)], []]\n"
     ]
    }
   ],
   "source": [
    "cases = powerset([0, 1, 2])\n",
    "\n",
    "for c in cases:\n",
    "    sys = sp.Matrix([dL[0], dL[1]] + [D[i] for i in c] + [lamds[j] for j in [0, 1, 2] if j not in c])\n",
    "    sols.append(sp.solve(sys, X + lamds))\n",
    "print(sols)"
   ]
  },
  {
   "cell_type": "code",
   "execution_count": 5,
   "metadata": {},
   "outputs": [
    {
     "name": "stdout",
     "output_type": "stream",
     "text": [
      "[(-0.500000000000000, -1.00000000000000, 0.0, 0.0, 0.0), (-5.57406614872846, -5.71404268608011, 1107.29202247182, 0.0, 83.4058438123157)]\n",
      "[2.00000000000000, 1824.75549157257]\n",
      "Min value: 2.00000000000000 in x = (-0.500000000000000, -1.00000000000000)\n"
     ]
    }
   ],
   "source": [
    "true_sols = []\n",
    "for M in sols:\n",
    "    if (M == []):\n",
    "        continue\n",
    "    for s in M:\n",
    "        ok = True\n",
    "        if (D[i].subs(zip(X + lamds, s)).evalf() > 0):\n",
    "            ok = False\n",
    "        for l in s[2:]:\n",
    "            if (l < 0):\n",
    "                ok = False\n",
    "        if (ok):\n",
    "            true_sols.append(s)\n",
    "\n",
    "print(true_sols)\n",
    "func = sp.lambdify(X, F)\n",
    "func_values = [func(s[0], s[1]) for s in true_sols if s != []]\n",
    "print(func_values)\n",
    "\n",
    "min_idx = min(range(len(func_values)), key= lambda i: func_values[i])\n",
    "print(f\"Min value: {func_values[min_idx]} in x = ({true_sols[min_idx][0]}, {true_sols[min_idx][1]})\")"
   ]
  },
  {
   "cell_type": "markdown",
   "metadata": {},
   "source": [
    "Получаем, что минимум исследуемой функции достигается в точке $(-0.500000000000000, -1.00000000000000)$ и равен $2$"
   ]
  }
 ],
 "metadata": {
  "kernelspec": {
   "display_name": "Python 3",
   "language": "python",
   "name": "python3"
  },
  "language_info": {
   "codemirror_mode": {
    "name": "ipython",
    "version": 3
   },
   "file_extension": ".py",
   "mimetype": "text/x-python",
   "name": "python",
   "nbconvert_exporter": "python",
   "pygments_lexer": "ipython3",
   "version": "3.11.2"
  }
 },
 "nbformat": 4,
 "nbformat_minor": 2
}
